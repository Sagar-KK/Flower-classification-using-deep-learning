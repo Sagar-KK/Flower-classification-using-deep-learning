{
 "cells": [
  {
   "cell_type": "code",
   "execution_count": 1,
   "metadata": {},
   "outputs": [],
   "source": [
    "%matplotlib inline"
   ]
  },
  {
   "cell_type": "code",
   "execution_count": 2,
   "metadata": {},
   "outputs": [],
   "source": [
    "from matplotlib import pyplot as plt\n",
    "import numpy as np"
   ]
  },
  {
   "cell_type": "code",
   "execution_count": 3,
   "metadata": {},
   "outputs": [],
   "source": [
    "#list of list of data pints training data set\n",
    "#0=blue,1=red\n",
    "data=[[3,   1.5,  1],\n",
    "      [2,   1,    0],\n",
    "      [4,   1.5,  1],\n",
    "      [3,   1,    0],\n",
    "      [3.5, .5,   1],\n",
    "      [2,   .5,   0],\n",
    "      [5.5, 1,    1],\n",
    "      [1,   1,    0]]\n",
    "\n",
    "mistery_flower=[2,  1]"
   ]
  },
  {
   "cell_type": "code",
   "execution_count": 4,
   "metadata": {},
   "outputs": [],
   "source": [
    "#network\n",
    "#   o  flower type\n",
    "#  / \\   weights w1,w2, bias\n",
    "# o   o  length,width\n",
    "w1 = np.random.randn()\n",
    "w2 = np.random.randn()\n",
    "b = np.random.rand()\n"
   ]
  },
  {
   "cell_type": "markdown",
   "metadata": {},
   "source": [
    "w1\n"
   ]
  },
  {
   "cell_type": "code",
   "execution_count": 5,
   "metadata": {},
   "outputs": [],
   "source": [
    "# activation function sigmoid\n",
    "def sigmoid(x):\n",
    "    return 1/(1+np.exp(-x))\n",
    "#dfferentiation of sigmoid function\n",
    "def sigmoid_der(x):\n",
    "    return sigmoid(x) * (1-sigmoid(x))"
   ]
  },
  {
   "cell_type": "code",
   "execution_count": 6,
   "metadata": {},
   "outputs": [],
   "source": [
    "T=np.linspace(-5,5,10)\n"
   ]
  },
  {
   "cell_type": "code",
   "execution_count": 7,
   "metadata": {},
   "outputs": [],
   "source": [
    "Y=sigmoid(T)\n"
   ]
  },
  {
   "cell_type": "code",
   "execution_count": 8,
   "metadata": {},
   "outputs": [
    {
     "data": {
      "text/plain": [
       "[<matplotlib.lines.Line2D at 0xb3c0890>]"
      ]
     },
     "execution_count": 8,
     "metadata": {},
     "output_type": "execute_result"
    },
    {
     "data": {
      "image/png": "[encoded data removed]",
      "text/plain": [
       "<Figure size 432x288 with 1 Axes>"
      ]
     },
     "metadata": {
      "needs_background": "light"
     },
     "output_type": "display_data"
    }
   ],
   "source": [
    "plt.plot(T,Y)"
   ]
  },
  {
   "cell_type": "code",
   "execution_count": 9,
   "metadata": {},
   "outputs": [
    {
     "data": {
      "image/png": "[encoded data removed]",
      "text/plain": [
       "<Figure size 432x288 with 1 Axes>"
      ]
     },
     "metadata": {
      "needs_background": "light"
     },
     "output_type": "display_data"
    }
   ],
   "source": [
    "#scatter data\n",
    "for i in range(len(data)):\n",
    "    point=data[i]\n",
    "    color=\"r\"\n",
    "    if(point[2]==0):\n",
    "        color=\"b\"\n",
    "    plt.scatter(point[0],point[1],c=color)"
   ]
  },
  {
   "cell_type": "code",
   "execution_count": 10,
   "metadata": {},
   "outputs": [
    {
     "data": {
      "image/png": "[encoded data removed]",
      "text/plain": [
       "<Figure size 432x288 with 1 Axes>"
      ]
     },
     "metadata": {
      "needs_background": "light"
     },
     "output_type": "display_data"
    }
   ],
   "source": [
    "#scatter data in perticular scale\n",
    "plt.axis([0,6,0,6])\n",
    "plt.grid()\n",
    "for i in range(len(data)):\n",
    "    point=data[i]\n",
    "    color=\"r\"\n",
    "    if(point[2]==0):\n",
    "        color=\"b\"\n",
    "    plt.scatter(point[0],point[1],c=color)"
   ]
  },
  {
   "cell_type": "code",
   "execution_count": 12,
   "metadata": {},
   "outputs": [],
   "source": [
    "#training loop\n",
    "learning_rate = 0.02\n",
    "for i in range(50000):\n",
    "    ri = np.random.randint(len(data))\n",
    "    point=data[ri]\n",
    "    \n",
    "    z = point[0] * w1 + point[1] * w2 + b\n",
    "    pred = sigmoid(z)\n",
    "\n",
    "    target = point[2]\n",
    "    #squared error function\n",
    "    cost = np.square(pred - target)\n",
    "    \n",
    "    if i % 100 == 0:\n",
    "    \n",
    "        #differentiation of cost with respect to predection\n",
    "        dcost_pred = 2 * (pred - target)\n",
    "\n",
    "        #differentiation of pred with respect to dz ie differentiation of sigmoid\n",
    "        dpred_dz= sigmoid_der(z)\n",
    "\n",
    "\n",
    "        dz_dw1 = point[0]\n",
    "        dz_dw2 = point[1]\n",
    "        dz_db=1\n",
    "\n",
    "        #differentioation of cost with respect to w1\n",
    "        dcost_dw1 = dcost_pred * dpred_dz * dz_dw1\n",
    "\n",
    "        #differentioation of cost with respect to w12\n",
    "        dcost_dw2 = dcost_pred * dpred_dz * dz_dw2\n",
    "\n",
    "        #differentioation of cost with respect to b\n",
    "        dcost_db = dcost_pred * dpred_dz * dz_db\n",
    "\n",
    "        w1 = w1 - learning_rate * dcost_dw1\n",
    "        w2 = w2 - learning_rate * dcost_dw2\n",
    "        b = b - learning_rate * dcost_db\n",
    "\n"
   ]
  },
  {
   "cell_type": "code",
   "execution_count": 15,
   "metadata": {},
   "outputs": [
    {
     "name": "stdout",
     "output_type": "stream",
     "text": [
      "blue flower\n"
     ]
    }
   ],
   "source": [
    "# prediction for mistery flower\n",
    "z = mistery_flower[0] * w1 + mistery_flower[1] * w2 + b\n",
    "pred= sigmoid(z)\n",
    "if(pred<=0.5):\n",
    "    print(\"blue flower\")\n",
    "else:\n",
    "    print(\"red flower\")"
   ]
  },
  {
   "cell_type": "code",
   "execution_count": 16,
   "metadata": {},
   "outputs": [
    {
     "name": "stdout",
     "output_type": "stream",
     "text": [
      "blue flower\n"
     ]
    }
   ],
   "source": [
    "#prediction for another random flower\n",
    "z = 2 * w1 + 1 * w2 + b\n",
    "pred= sigmoid(z)\n",
    "if(pred<=0.5):\n",
    "    print(\"blue flower\")\n",
    "else:\n",
    "    print(\"red flower\")"
   ]
  },
  {
   "cell_type": "code",
   "execution_count": 18,
   "metadata": {},
   "outputs": [
    {
     "name": "stdout",
     "output_type": "stream",
     "text": [
      "red flower\n"
     ]
    }
   ],
   "source": [
    "#prediction for another random flower\n",
    "z = 5 * w1 + 1.4 * w2 + b\n",
    "pred= sigmoid(z)\n",
    "if(pred<=0.5):\n",
    "    print(\"blue flower\")\n",
    "else:\n",
    "    print(\"red flower\")"
   ]
  },
  {
   "cell_type": "code",
   "execution_count": null,
   "metadata": {},
   "outputs": [],
   "source": []
  }
 ],
 "metadata": {
  "kernelspec": {
   "display_name": "Python 3",
   "language": "python",
   "name": "python3"
  },
  "language_info": {
   "codemirror_mode": {
    "name": "ipython",
    "version": 3
   },
   "file_extension": ".py",
   "mimetype": "text/x-python",
   "name": "python",
   "nbconvert_exporter": "python",
   "pygments_lexer": "ipython3",
   "version": "3.7.3"
  }
 },
 "nbformat": 4,
 "nbformat_minor": 2
}
